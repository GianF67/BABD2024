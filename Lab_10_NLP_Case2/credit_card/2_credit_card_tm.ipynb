{
  "cells": [
    {
      "cell_type": "code",
      "execution_count": 1,
      "id": "2eae711d",
      "metadata": {
        "id": "2eae711d"
      },
      "outputs": [],
      "source": [
        "import pandas as pd"
      ]
    },
    {
      "cell_type": "code",
      "execution_count": 2,
      "id": "b0d5f318",
      "metadata": {
        "id": "b0d5f318",
        "colab": {
          "base_uri": "https://localhost:8080/"
        },
        "outputId": "4eeb96fa-e756-4c81-f7f1-c9c124596c11"
      },
      "outputs": [
        {
          "output_type": "stream",
          "name": "stdout",
          "text": [
            "Mounted at /content/drive\n"
          ]
        }
      ],
      "source": [
        "from google.colab import drive\n",
        "drive.mount('/content/drive')\n",
        "f = 'drive/MyDrive/BABD_projects/'\n",
        "#f=''\n",
        "\n",
        "df = pd.read_csv(f+'complaints_cleaned.csv', index_col=0)"
      ]
    },
    {
      "cell_type": "code",
      "execution_count": 3,
      "id": "732ea7f3",
      "metadata": {
        "colab": {
          "base_uri": "https://localhost:8080/"
        },
        "id": "732ea7f3",
        "outputId": "ff11e85f-9168-4966-8474-d484f1a48bf8"
      },
      "outputs": [
        {
          "output_type": "execute_result",
          "data": {
            "text/plain": [
              "(162405, 3)"
            ]
          },
          "metadata": {},
          "execution_count": 3
        }
      ],
      "source": [
        "df.shape"
      ]
    },
    {
      "cell_type": "code",
      "execution_count": 4,
      "id": "adc5fec3",
      "metadata": {
        "colab": {
          "base_uri": "https://localhost:8080/",
          "height": 206
        },
        "id": "adc5fec3",
        "outputId": "55690043-3a54-407c-f9b6-42b701088e47"
      },
      "outputs": [
        {
          "output_type": "execute_result",
          "data": {
            "text/plain": [
              "            product                                          narrative  \\\n",
              "0       credit_card  purchase order day shipping amount receive pro...   \n",
              "1       credit_card  forwarded message date tue subject please inve...   \n",
              "2    retail_banking  forwarded message cc sent friday pdt subject f...   \n",
              "3  credit_reporting  payment history missing credit report speciali...   \n",
              "4  credit_reporting  payment history missing credit report made mis...   \n",
              "\n",
              "                                   cleaned_narrative  \n",
              "0  purchase order ship amount receive product wee...  \n",
              "1  forward message date subject please investigat...  \n",
              "2  forwarded message send friday subject final le...  \n",
              "3  payment history miss credit report specialize ...  \n",
              "4  payment history miss credit report make mistak...  "
            ],
            "text/html": [
              "\n",
              "  <div id=\"df-fc87352c-67c4-4176-8681-b44501972948\" class=\"colab-df-container\">\n",
              "    <div>\n",
              "<style scoped>\n",
              "    .dataframe tbody tr th:only-of-type {\n",
              "        vertical-align: middle;\n",
              "    }\n",
              "\n",
              "    .dataframe tbody tr th {\n",
              "        vertical-align: top;\n",
              "    }\n",
              "\n",
              "    .dataframe thead th {\n",
              "        text-align: right;\n",
              "    }\n",
              "</style>\n",
              "<table border=\"1\" class=\"dataframe\">\n",
              "  <thead>\n",
              "    <tr style=\"text-align: right;\">\n",
              "      <th></th>\n",
              "      <th>product</th>\n",
              "      <th>narrative</th>\n",
              "      <th>cleaned_narrative</th>\n",
              "    </tr>\n",
              "  </thead>\n",
              "  <tbody>\n",
              "    <tr>\n",
              "      <th>0</th>\n",
              "      <td>credit_card</td>\n",
              "      <td>purchase order day shipping amount receive pro...</td>\n",
              "      <td>purchase order ship amount receive product wee...</td>\n",
              "    </tr>\n",
              "    <tr>\n",
              "      <th>1</th>\n",
              "      <td>credit_card</td>\n",
              "      <td>forwarded message date tue subject please inve...</td>\n",
              "      <td>forward message date subject please investigat...</td>\n",
              "    </tr>\n",
              "    <tr>\n",
              "      <th>2</th>\n",
              "      <td>retail_banking</td>\n",
              "      <td>forwarded message cc sent friday pdt subject f...</td>\n",
              "      <td>forwarded message send friday subject final le...</td>\n",
              "    </tr>\n",
              "    <tr>\n",
              "      <th>3</th>\n",
              "      <td>credit_reporting</td>\n",
              "      <td>payment history missing credit report speciali...</td>\n",
              "      <td>payment history miss credit report specialize ...</td>\n",
              "    </tr>\n",
              "    <tr>\n",
              "      <th>4</th>\n",
              "      <td>credit_reporting</td>\n",
              "      <td>payment history missing credit report made mis...</td>\n",
              "      <td>payment history miss credit report make mistak...</td>\n",
              "    </tr>\n",
              "  </tbody>\n",
              "</table>\n",
              "</div>\n",
              "    <div class=\"colab-df-buttons\">\n",
              "\n",
              "  <div class=\"colab-df-container\">\n",
              "    <button class=\"colab-df-convert\" onclick=\"convertToInteractive('df-fc87352c-67c4-4176-8681-b44501972948')\"\n",
              "            title=\"Convert this dataframe to an interactive table.\"\n",
              "            style=\"display:none;\">\n",
              "\n",
              "  <svg xmlns=\"http://www.w3.org/2000/svg\" height=\"24px\" viewBox=\"0 -960 960 960\">\n",
              "    <path d=\"M120-120v-720h720v720H120Zm60-500h600v-160H180v160Zm220 220h160v-160H400v160Zm0 220h160v-160H400v160ZM180-400h160v-160H180v160Zm440 0h160v-160H620v160ZM180-180h160v-160H180v160Zm440 0h160v-160H620v160Z\"/>\n",
              "  </svg>\n",
              "    </button>\n",
              "\n",
              "  <style>\n",
              "    .colab-df-container {\n",
              "      display:flex;\n",
              "      gap: 12px;\n",
              "    }\n",
              "\n",
              "    .colab-df-convert {\n",
              "      background-color: #E8F0FE;\n",
              "      border: none;\n",
              "      border-radius: 50%;\n",
              "      cursor: pointer;\n",
              "      display: none;\n",
              "      fill: #1967D2;\n",
              "      height: 32px;\n",
              "      padding: 0 0 0 0;\n",
              "      width: 32px;\n",
              "    }\n",
              "\n",
              "    .colab-df-convert:hover {\n",
              "      background-color: #E2EBFA;\n",
              "      box-shadow: 0px 1px 2px rgba(60, 64, 67, 0.3), 0px 1px 3px 1px rgba(60, 64, 67, 0.15);\n",
              "      fill: #174EA6;\n",
              "    }\n",
              "\n",
              "    .colab-df-buttons div {\n",
              "      margin-bottom: 4px;\n",
              "    }\n",
              "\n",
              "    [theme=dark] .colab-df-convert {\n",
              "      background-color: #3B4455;\n",
              "      fill: #D2E3FC;\n",
              "    }\n",
              "\n",
              "    [theme=dark] .colab-df-convert:hover {\n",
              "      background-color: #434B5C;\n",
              "      box-shadow: 0px 1px 3px 1px rgba(0, 0, 0, 0.15);\n",
              "      filter: drop-shadow(0px 1px 2px rgba(0, 0, 0, 0.3));\n",
              "      fill: #FFFFFF;\n",
              "    }\n",
              "  </style>\n",
              "\n",
              "    <script>\n",
              "      const buttonEl =\n",
              "        document.querySelector('#df-fc87352c-67c4-4176-8681-b44501972948 button.colab-df-convert');\n",
              "      buttonEl.style.display =\n",
              "        google.colab.kernel.accessAllowed ? 'block' : 'none';\n",
              "\n",
              "      async function convertToInteractive(key) {\n",
              "        const element = document.querySelector('#df-fc87352c-67c4-4176-8681-b44501972948');\n",
              "        const dataTable =\n",
              "          await google.colab.kernel.invokeFunction('convertToInteractive',\n",
              "                                                    [key], {});\n",
              "        if (!dataTable) return;\n",
              "\n",
              "        const docLinkHtml = 'Like what you see? Visit the ' +\n",
              "          '<a target=\"_blank\" href=https://colab.research.google.com/notebooks/data_table.ipynb>data table notebook</a>'\n",
              "          + ' to learn more about interactive tables.';\n",
              "        element.innerHTML = '';\n",
              "        dataTable['output_type'] = 'display_data';\n",
              "        await google.colab.output.renderOutput(dataTable, element);\n",
              "        const docLink = document.createElement('div');\n",
              "        docLink.innerHTML = docLinkHtml;\n",
              "        element.appendChild(docLink);\n",
              "      }\n",
              "    </script>\n",
              "  </div>\n",
              "\n",
              "\n",
              "<div id=\"df-b3347c32-0344-4001-8292-e7f988774540\">\n",
              "  <button class=\"colab-df-quickchart\" onclick=\"quickchart('df-b3347c32-0344-4001-8292-e7f988774540')\"\n",
              "            title=\"Suggest charts\"\n",
              "            style=\"display:none;\">\n",
              "\n",
              "<svg xmlns=\"http://www.w3.org/2000/svg\" height=\"24px\"viewBox=\"0 0 24 24\"\n",
              "     width=\"24px\">\n",
              "    <g>\n",
              "        <path d=\"M19 3H5c-1.1 0-2 .9-2 2v14c0 1.1.9 2 2 2h14c1.1 0 2-.9 2-2V5c0-1.1-.9-2-2-2zM9 17H7v-7h2v7zm4 0h-2V7h2v10zm4 0h-2v-4h2v4z\"/>\n",
              "    </g>\n",
              "</svg>\n",
              "  </button>\n",
              "\n",
              "<style>\n",
              "  .colab-df-quickchart {\n",
              "      --bg-color: #E8F0FE;\n",
              "      --fill-color: #1967D2;\n",
              "      --hover-bg-color: #E2EBFA;\n",
              "      --hover-fill-color: #174EA6;\n",
              "      --disabled-fill-color: #AAA;\n",
              "      --disabled-bg-color: #DDD;\n",
              "  }\n",
              "\n",
              "  [theme=dark] .colab-df-quickchart {\n",
              "      --bg-color: #3B4455;\n",
              "      --fill-color: #D2E3FC;\n",
              "      --hover-bg-color: #434B5C;\n",
              "      --hover-fill-color: #FFFFFF;\n",
              "      --disabled-bg-color: #3B4455;\n",
              "      --disabled-fill-color: #666;\n",
              "  }\n",
              "\n",
              "  .colab-df-quickchart {\n",
              "    background-color: var(--bg-color);\n",
              "    border: none;\n",
              "    border-radius: 50%;\n",
              "    cursor: pointer;\n",
              "    display: none;\n",
              "    fill: var(--fill-color);\n",
              "    height: 32px;\n",
              "    padding: 0;\n",
              "    width: 32px;\n",
              "  }\n",
              "\n",
              "  .colab-df-quickchart:hover {\n",
              "    background-color: var(--hover-bg-color);\n",
              "    box-shadow: 0 1px 2px rgba(60, 64, 67, 0.3), 0 1px 3px 1px rgba(60, 64, 67, 0.15);\n",
              "    fill: var(--button-hover-fill-color);\n",
              "  }\n",
              "\n",
              "  .colab-df-quickchart-complete:disabled,\n",
              "  .colab-df-quickchart-complete:disabled:hover {\n",
              "    background-color: var(--disabled-bg-color);\n",
              "    fill: var(--disabled-fill-color);\n",
              "    box-shadow: none;\n",
              "  }\n",
              "\n",
              "  .colab-df-spinner {\n",
              "    border: 2px solid var(--fill-color);\n",
              "    border-color: transparent;\n",
              "    border-bottom-color: var(--fill-color);\n",
              "    animation:\n",
              "      spin 1s steps(1) infinite;\n",
              "  }\n",
              "\n",
              "  @keyframes spin {\n",
              "    0% {\n",
              "      border-color: transparent;\n",
              "      border-bottom-color: var(--fill-color);\n",
              "      border-left-color: var(--fill-color);\n",
              "    }\n",
              "    20% {\n",
              "      border-color: transparent;\n",
              "      border-left-color: var(--fill-color);\n",
              "      border-top-color: var(--fill-color);\n",
              "    }\n",
              "    30% {\n",
              "      border-color: transparent;\n",
              "      border-left-color: var(--fill-color);\n",
              "      border-top-color: var(--fill-color);\n",
              "      border-right-color: var(--fill-color);\n",
              "    }\n",
              "    40% {\n",
              "      border-color: transparent;\n",
              "      border-right-color: var(--fill-color);\n",
              "      border-top-color: var(--fill-color);\n",
              "    }\n",
              "    60% {\n",
              "      border-color: transparent;\n",
              "      border-right-color: var(--fill-color);\n",
              "    }\n",
              "    80% {\n",
              "      border-color: transparent;\n",
              "      border-right-color: var(--fill-color);\n",
              "      border-bottom-color: var(--fill-color);\n",
              "    }\n",
              "    90% {\n",
              "      border-color: transparent;\n",
              "      border-bottom-color: var(--fill-color);\n",
              "    }\n",
              "  }\n",
              "</style>\n",
              "\n",
              "  <script>\n",
              "    async function quickchart(key) {\n",
              "      const quickchartButtonEl =\n",
              "        document.querySelector('#' + key + ' button');\n",
              "      quickchartButtonEl.disabled = true;  // To prevent multiple clicks.\n",
              "      quickchartButtonEl.classList.add('colab-df-spinner');\n",
              "      try {\n",
              "        const charts = await google.colab.kernel.invokeFunction(\n",
              "            'suggestCharts', [key], {});\n",
              "      } catch (error) {\n",
              "        console.error('Error during call to suggestCharts:', error);\n",
              "      }\n",
              "      quickchartButtonEl.classList.remove('colab-df-spinner');\n",
              "      quickchartButtonEl.classList.add('colab-df-quickchart-complete');\n",
              "    }\n",
              "    (() => {\n",
              "      let quickchartButtonEl =\n",
              "        document.querySelector('#df-b3347c32-0344-4001-8292-e7f988774540 button');\n",
              "      quickchartButtonEl.style.display =\n",
              "        google.colab.kernel.accessAllowed ? 'block' : 'none';\n",
              "    })();\n",
              "  </script>\n",
              "</div>\n",
              "    </div>\n",
              "  </div>\n"
            ],
            "application/vnd.google.colaboratory.intrinsic+json": {
              "type": "dataframe",
              "variable_name": "df"
            }
          },
          "metadata": {},
          "execution_count": 4
        }
      ],
      "source": [
        "df.head()"
      ]
    },
    {
      "cell_type": "code",
      "execution_count": 5,
      "id": "8f527ff2",
      "metadata": {
        "colab": {
          "base_uri": "https://localhost:8080/"
        },
        "id": "8f527ff2",
        "outputId": "69b9252c-f3cd-4f3d-e621-25204a2bb7ca"
      },
      "outputs": [
        {
          "output_type": "execute_result",
          "data": {
            "text/plain": [
              "product              0\n",
              "narrative            0\n",
              "cleaned_narrative    2\n",
              "dtype: int64"
            ]
          },
          "metadata": {},
          "execution_count": 5
        }
      ],
      "source": [
        "df.isna().sum()"
      ]
    },
    {
      "cell_type": "code",
      "execution_count": 6,
      "id": "hyJFmkBw_my5",
      "metadata": {
        "id": "hyJFmkBw_my5"
      },
      "outputs": [],
      "source": [
        "df['narrative'] = df['narrative'].astype(str)"
      ]
    },
    {
      "cell_type": "markdown",
      "id": "951be985",
      "metadata": {
        "id": "951be985"
      },
      "source": [
        "## 2nd task\n",
        "\n",
        "Topic modeling"
      ]
    },
    {
      "cell_type": "code",
      "execution_count": 7,
      "id": "dde6dd70",
      "metadata": {
        "colab": {
          "base_uri": "https://localhost:8080/"
        },
        "id": "dde6dd70",
        "outputId": "837a462e-41fd-44f6-ecd3-ed1015b39930"
      },
      "outputs": [
        {
          "output_type": "stream",
          "name": "stderr",
          "text": [
            "[nltk_data] Downloading package stopwords to /root/nltk_data...\n",
            "[nltk_data]   Unzipping corpora/stopwords.zip.\n"
          ]
        }
      ],
      "source": [
        "from gensim import corpora\n",
        "from gensim.models import LdaModel\n",
        "from gensim.models import LsiModel\n",
        "from gensim.models import TfidfModel\n",
        "from sklearn.feature_extraction.text import CountVectorizer\n",
        "from sklearn.feature_extraction.text import TfidfVectorizer\n",
        "\n",
        "from gensim import matutils, models\n",
        "from gensim.corpora import Dictionary\n",
        "import scipy.sparse\n",
        "\n",
        "import nltk\n",
        "from nltk.corpus import stopwords\n",
        "nltk.download('stopwords')\n",
        "stop_words = stopwords.words('english')\n",
        "\n",
        "def prepare_corpus():\n",
        "    cv = TfidfVectorizer(stop_words=stop_words, min_df=0.1, max_df= 0.8)\n",
        "    data_cv = cv.fit_transform(df['narrative'])\n",
        "    data = pd.DataFrame(data_cv.toarray(), columns=cv.get_feature_names_out())\n",
        "    data.index = df.index\n",
        "    tdm = data.transpose()\n",
        "    sparse_counts = scipy.sparse.csr_matrix(tdm)\n",
        "    corpus = matutils.Sparse2Corpus(sparse_counts)\n",
        "\n",
        "    #d = corpora.Dictionary()\n",
        "    id2word = dict((v, k) for k, v in cv.vocabulary_.items())\n",
        "\n",
        "    gensim_dict = Dictionary.from_corpus(corpus, id2word=id2word)\n",
        "\n",
        "    return gensim_dict,corpus"
      ]
    },
    {
      "cell_type": "code",
      "execution_count": 8,
      "id": "514f7240",
      "metadata": {
        "id": "514f7240"
      },
      "outputs": [],
      "source": [
        "from gensim.models.coherencemodel import CoherenceModel\n",
        "\n",
        "def compute_coherence_values(dictionary, corpus, doc_clean, stop, start=2, step=3):\n",
        "    \"\"\"\n",
        "    Input   : dictionary : Gensim dictionary\n",
        "              corpus : Gensim corpus\n",
        "              texts : List of input texts\n",
        "              stop : Max num of topics\n",
        "    purpose : Compute c_v coherence for various number of topics\n",
        "    Output  : model_list : List of LDA topic models\n",
        "              c_v : Coherence values corresponding to the LDA model with respective number of topics\n",
        "    \"\"\"\n",
        "    c_v = []\n",
        "    model_list = []\n",
        "    for num_topics in range(start, stop, step):\n",
        "        # generate model\n",
        "        model = LsiModel(corpus, num_topics=num_topics, id2word = dictionary)  # train model\n",
        "        model_list.append(model)\n",
        "        coherencemodel = CoherenceModel(model=model, texts=doc_clean, dictionary=dictionary, coherence='c_v')\n",
        "        c_v.append(coherencemodel.get_coherence())\n",
        "    return model_list, c_v"
      ]
    },
    {
      "cell_type": "code",
      "source": [
        "dictionary,corpus=prepare_corpus()"
      ],
      "metadata": {
        "id": "80MfdsRT4vZb"
      },
      "id": "80MfdsRT4vZb",
      "execution_count": 13,
      "outputs": []
    },
    {
      "cell_type": "code",
      "execution_count": 9,
      "id": "3132ba3b",
      "metadata": {
        "colab": {
          "base_uri": "https://localhost:8080/",
          "height": 484
        },
        "id": "3132ba3b",
        "outputId": "4155490d-e174-4c3e-8392-b1cb2b47cc57"
      },
      "outputs": [
        {
          "output_type": "stream",
          "name": "stderr",
          "text": [
            "[nltk_data] Downloading package punkt to /root/nltk_data...\n",
            "[nltk_data]   Unzipping tokenizers/punkt.zip.\n"
          ]
        },
        {
          "output_type": "display_data",
          "data": {
            "text/plain": [
              "<Figure size 640x480 with 1 Axes>"
            ],
            "image/png": "[encoded data removed]"
          },
          "metadata": {}
        }
      ],
      "source": [
        "nltk.download('punkt')\n",
        "from nltk import word_tokenize\n",
        "import matplotlib.pyplot as plt\n",
        "\n",
        "def plot_graph(doc_clean, start, stop, step):\n",
        "    model_list,c_v = compute_coherence_values(dictionary, corpus, doc_clean,\n",
        "                                                            stop, start, step)\n",
        "\n",
        "\n",
        "    # cv\n",
        "    x = range(start, stop, step)\n",
        "    fig = plt.plot(x, c_v, label = 'cv')\n",
        "    plt.xlabel(\"Number of Topics\")\n",
        "    plt.ylabel(\"Coherence score\")\n",
        "    plt.legend(('cv'), loc='best')\n",
        "    plt.xticks(ticks = x)\n",
        "    plt.show()\n",
        "    plt.close()\n",
        "\n",
        "    return model_list\n",
        "\n",
        "model_list = plot_graph(df['narrative'].apply(word_tokenize),1,15,1)"
      ]
    },
    {
      "cell_type": "code",
      "source": [
        "ntopic = 3\n",
        "model = model_list[ntopic-1]\n",
        "model.show_topics()"
      ],
      "metadata": {
        "colab": {
          "base_uri": "https://localhost:8080/"
        },
        "id": "cqUcho4JjJGT",
        "outputId": "0d8c1e01-6740-4ec0-e8de-137f4f81f2ac"
      },
      "id": "cqUcho4JjJGT",
      "execution_count": 10,
      "outputs": [
        {
          "output_type": "execute_result",
          "data": {
            "text/plain": [
              "[(0,\n",
              "  '0.420*\"account\" + 0.399*\"credit\" + 0.287*\"report\" + 0.177*\"information\" + 0.173*\"payment\" + 0.150*\"reporting\" + 0.139*\"company\" + 0.131*\"debt\" + 0.124*\"time\" + 0.124*\"day\"'),\n",
              " (1,\n",
              "  '-0.443*\"payment\" + 0.319*\"report\" + 0.282*\"credit\" + -0.251*\"loan\" + -0.222*\"bank\" + 0.163*\"identity\" + -0.160*\"would\" + -0.160*\"late\" + 0.149*\"item\" + 0.145*\"theft\"'),\n",
              " (2,\n",
              "  '0.454*\"account\" + -0.411*\"item\" + -0.280*\"identity\" + -0.247*\"report\" + 0.230*\"debt\" + -0.230*\"theft\" + -0.161*\"remove\" + 0.158*\"balance\" + -0.155*\"payment\" + 0.154*\"collection\"')]"
            ]
          },
          "metadata": {},
          "execution_count": 10
        }
      ]
    },
    {
      "cell_type": "code",
      "source": [
        "ntopic = 5\n",
        "model = model_list[ntopic-1]\n",
        "model.show_topics()"
      ],
      "metadata": {
        "colab": {
          "base_uri": "https://localhost:8080/"
        },
        "id": "LPXBopWWBsO1",
        "outputId": "d9d4d857-54cd-4c86-90a4-54f53d412e28"
      },
      "id": "LPXBopWWBsO1",
      "execution_count": 11,
      "outputs": [
        {
          "output_type": "execute_result",
          "data": {
            "text/plain": [
              "[(0,\n",
              "  '0.417*\"account\" + 0.402*\"credit\" + 0.290*\"report\" + 0.178*\"information\" + 0.172*\"payment\" + 0.150*\"reporting\" + 0.139*\"company\" + 0.129*\"debt\" + 0.124*\"time\" + 0.123*\"day\"'),\n",
              " (1,\n",
              "  '-0.434*\"payment\" + 0.327*\"report\" + 0.295*\"credit\" + -0.251*\"loan\" + -0.230*\"bank\" + -0.162*\"would\" + -0.151*\"late\" + 0.150*\"item\" + -0.145*\"told\" + -0.144*\"call\"'),\n",
              " (2,\n",
              "  '0.774*\"account\" + -0.211*\"credit\" + -0.201*\"loan\" + -0.198*\"payment\" + 0.197*\"bank\" + -0.173*\"report\" + -0.130*\"debt\" + -0.129*\"reporting\" + 0.126*\"fraudulent\" + -0.126*\"day\"'),\n",
              " (3,\n",
              "  '0.609*\"debt\" + 0.335*\"collection\" + -0.276*\"item\" + -0.252*\"report\" + -0.212*\"credit\" + -0.204*\"card\" + 0.160*\"reporting\" + 0.145*\"company\" + 0.140*\"agency\" + -0.131*\"remove\"'),\n",
              " (4,\n",
              "  '-0.492*\"identity\" + -0.460*\"theft\" + 0.321*\"day\" + 0.222*\"dispute\" + 0.198*\"account\" + 0.174*\"inaccurate\" + 0.170*\"letter\" + 0.156*\"response\" + 0.150*\"sent\" + 0.143*\"reporting\"')]"
            ]
          },
          "metadata": {},
          "execution_count": 11
        }
      ]
    },
    {
      "cell_type": "code",
      "source": [
        "list_guess = [\n",
        "    'credit',\n",
        "    'payment',\n",
        "    'loans and credits',\n",
        "    'debt collection',\n",
        "    'identity theft'\n",
        "]"
      ],
      "metadata": {
        "id": "TTthz4iC6i2b"
      },
      "id": "TTthz4iC6i2b",
      "execution_count": 33,
      "outputs": []
    },
    {
      "cell_type": "code",
      "source": [
        "corpus_transformed = model[corpus]\n",
        "\n",
        "import numpy as np\n",
        "\n",
        "from pandas.core.common import not_none\n",
        "topic_prediction=[]\n",
        "for j in list(corpus_transformed):\n",
        "    if len(j) > 0:\n",
        "        main_topic=j[0][0]\n",
        "        weigth=np.abs(j[0][1])\n",
        "        for t,w in j:\n",
        "            if np.abs(w) > weigth :\n",
        "                main_topic=t\n",
        "                weigth=np.abs(w)\n",
        "    topic_prediction.append(main_topic)"
      ],
      "metadata": {
        "id": "c9lB67tPk7Kq"
      },
      "id": "c9lB67tPk7Kq",
      "execution_count": 14,
      "outputs": []
    },
    {
      "cell_type": "code",
      "source": [
        "from sklearn import preprocessing\n",
        "le = preprocessing.LabelEncoder()\n",
        "le.fit(list(df['product']))\n",
        "\n",
        "print(le.classes_)\n",
        "\n",
        "products=le.transform(list(df['product']))"
      ],
      "metadata": {
        "colab": {
          "base_uri": "https://localhost:8080/"
        },
        "id": "YsrQHViV5lPS",
        "outputId": "99dca11d-5d8c-4592-e49c-a26316f0d1c1"
      },
      "id": "YsrQHViV5lPS",
      "execution_count": 23,
      "outputs": [
        {
          "output_type": "stream",
          "name": "stdout",
          "text": [
            "['credit_card' 'credit_reporting' 'debt_collection' 'mortgages_and_loans'\n",
            " 'retail_banking']\n"
          ]
        }
      ]
    },
    {
      "cell_type": "code",
      "source": [
        "from sklearn.metrics import confusion_matrix\n",
        "cm=confusion_matrix(products,topic_prediction,normalize='pred') #normalize by columns\n",
        "print(cm)"
      ],
      "metadata": {
        "colab": {
          "base_uri": "https://localhost:8080/"
        },
        "id": "R1gxMcbilCSY",
        "outputId": "823f97d7-7bfc-4313-f34a-905e7ede9173"
      },
      "id": "R1gxMcbilCSY",
      "execution_count": 27,
      "outputs": [
        {
          "output_type": "stream",
          "name": "stdout",
          "text": [
            "[[0.10094729 0.13916842 0.0425815  0.01661912 0.0204918 ]\n",
            " [0.63717135 0.12125401 0.37641384 0.31501922 0.83180328]\n",
            " [0.12429115 0.07856906 0.05904857 0.64529332 0.12065574]\n",
            " [0.07048267 0.54528364 0.02611444 0.01661912 0.0142623 ]\n",
            " [0.06710755 0.11572487 0.49584165 0.00644921 0.01278689]]\n"
          ]
        }
      ]
    },
    {
      "cell_type": "code",
      "source": [
        "import seaborn as sns\n",
        "plt.figure(figsize = (15,8))\n",
        "\n",
        "ax=sns.heatmap(cm, annot=True, fmt='g');  #annot=True to annotate cells, ftm='g' to disable scientific notation\n",
        "\n",
        "# labels, title and ticks\n",
        "ax.set_xlabel('Predicted labels');ax.set_ylabel('True labels');\n",
        "ax.set_title('Confusion Matrix');\n",
        "ax.yaxis.set_ticklabels(le.classes_)\n",
        "ax.tick_params(axis='y', rotation=0)\n",
        "ax.xaxis.set_ticklabels(list_guess)\n",
        "ax.tick_params(axis='x', rotation=90)\n",
        "plt.show()\n",
        "plt.close()\n",
        "#plt.set_xticklabels(ax.get_xticklabels(),rotation = 30)"
      ],
      "metadata": {
        "colab": {
          "base_uri": "https://localhost:8080/",
          "height": 823
        },
        "id": "m_g2X2BD44Gx",
        "outputId": "dd671754-a1b2-4d68-b60e-c697e82d0a13"
      },
      "id": "m_g2X2BD44Gx",
      "execution_count": 34,
      "outputs": [
        {
          "output_type": "display_data",
          "data": {
            "text/plain": [
              "<Figure size 1500x800 with 2 Axes>"
            ],
            "image/png": "[encoded data removed]"
          },
          "metadata": {}
        }
      ]
    },
    {
      "cell_type": "code",
      "source": [],
      "metadata": {
        "id": "WFxIpIbx554H"
      },
      "id": "WFxIpIbx554H",
      "execution_count": null,
      "outputs": []
    }
  ],
  "metadata": {
    "accelerator": "GPU",
    "colab": {
      "gpuType": "T4",
      "provenance": []
    },
    "kaggle": {
      "accelerator": "none",
      "dataSources": [
        {
          "datasetId": 1363681,
          "sourceId": 2265312,
          "sourceType": "datasetVersion"
        }
      ],
      "dockerImageVersionId": 30646,
      "isGpuEnabled": false,
      "isInternetEnabled": false,
      "language": "python",
      "sourceType": "notebook"
    },
    "kernelspec": {
      "display_name": "Python 3",
      "name": "python3"
    },
    "language_info": {
      "codemirror_mode": {
        "name": "ipython",
        "version": 3
      },
      "file_extension": ".py",
      "mimetype": "text/x-python",
      "name": "python",
      "nbconvert_exporter": "python",
      "pygments_lexer": "ipython3",
      "version": "3.9.7"
    },
    "papermill": {
      "default_parameters": {},
      "duration": 17.599269,
      "end_time": "2024-02-27T09:53:49.395341",
      "environment_variables": {},
      "exception": null,
      "input_path": "__notebook__.ipynb",
      "output_path": "__notebook__.ipynb",
      "parameters": {},
      "start_time": "2024-02-27T09:53:31.796072",
      "version": "2.5.0"
    }
  },
  "nbformat": 4,
  "nbformat_minor": 5
}