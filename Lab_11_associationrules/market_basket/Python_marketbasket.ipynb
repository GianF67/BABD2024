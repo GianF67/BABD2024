{
 "cells": [
  {
   "cell_type": "markdown",
   "metadata": {},
   "source": [
    "<h2>Association Rules: Market Basket Analysis<h2>"
   ]
  },
  {
   "cell_type": "code",
   "execution_count": null,
   "metadata": {},
   "outputs": [],
   "source": [
    "import pandas as pd\n",
    "# Import the dataset\n",
    "data = pd.read_csv('Market_Basket.csv', header = None)\n",
    "# Get a look at the first rows\n",
    "data.head(20)"
   ]
  },
  {
   "cell_type": "code",
   "execution_count": null,
   "metadata": {},
   "outputs": [],
   "source": [
    "# Get the dataset dimensions\n",
    "print(data.shape)"
   ]
  },
  {
   "cell_type": "code",
   "execution_count": null,
   "metadata": {},
   "outputs": [],
   "source": [
    "# Get some general info\n",
    "data.info()\n",
    "# Object data (e.g. strings or timestamps)"
   ]
  },
  {
   "cell_type": "code",
   "execution_count": null,
   "metadata": {},
   "outputs": [],
   "source": [
    "# Get an overview (descriptive statistics) of the dataset\n",
    "data.describe()\n",
    "# count -> overall number of (not NaN) values\n",
    "# unique -> number of different values\n",
    "# top -> most common value\n",
    "# freq -> frequency of the most common value"
   ]
  },
  {
   "cell_type": "markdown",
   "metadata": {},
   "source": [
    "<b>Exploratory data analysis</b>"
   ]
  },
  {
   "cell_type": "code",
   "execution_count": null,
   "metadata": {},
   "outputs": [],
   "source": [
    "# Get the most demanded (purchased) items in dataset (looking at the top 30)\n",
    "\n",
    "# Create a list containing all the items purchased in the overall set of transactions\n",
    "all_items = []\n",
    "for i in range(0, data.shape[0]):\n",
    "    for j in range(0, data.shape[1]):\n",
    "        all_items.append(data.values[i,j])\n",
    "print(all_items)"
   ]
  },
  {
   "cell_type": "code",
   "execution_count": null,
   "metadata": {},
   "outputs": [],
   "source": [
    "# Compute the number of distinct items in the set of transactions\n",
    "from collections import Counter\n",
    "print(\"No of distinct items:\", len(Counter(all_items).keys()))"
   ]
  },
  {
   "cell_type": "code",
   "execution_count": null,
   "metadata": {},
   "outputs": [],
   "source": [
    "# Compute the frequency of each item\n",
    "print(pd.Series(all_items).value_counts())\n",
    "#print(pd.Series(all_items).value_counts(dropna=False))"
   ]
  },
  {
   "cell_type": "code",
   "execution_count": null,
   "metadata": {},
   "outputs": [],
   "source": [
    "# Record the result into a dataframe for visualization pusposes\n",
    "df_all_items_frequency = pd.Series(all_items).value_counts().reset_index().rename(columns={\"index\": \"Item\", 0: \"Count\"})\n",
    "df_all_items_frequency.head(20)"
   ]
  },
  {
   "cell_type": "code",
   "execution_count": null,
   "metadata": {},
   "outputs": [],
   "source": [
    "# Create nicer visualization (1)\n",
    "df_all_items_frequency.head(30).style.background_gradient(cmap='Blues')"
   ]
  },
  {
   "cell_type": "code",
   "execution_count": null,
   "metadata": {},
   "outputs": [],
   "source": [
    "# Create nicer visualization (2)\n",
    "import plotly.express as px\n",
    "df_all_items_frequency[\"Category\"] = \"All\" # To put all the items in the same hierarchy\n",
    "fig = px.treemap(df_all_items_frequency.head(30), path=['Category', 'Item'], values='Count',\n",
    "                color=df_all_items_frequency[\"Count\"].head(30), hover_data=['Item'],\n",
    "                color_continuous_scale='Blues')\n",
    "fig.show()"
   ]
  },
  {
   "cell_type": "code",
   "execution_count": null,
   "metadata": {},
   "outputs": [],
   "source": [
    "# To see how treemap works can be used for data organized into hierarchies\n",
    "data_temp = pd.read_csv('Items_Category.csv')\n",
    "data_temp.head()"
   ]
  },
  {
   "cell_type": "code",
   "execution_count": null,
   "metadata": {},
   "outputs": [],
   "source": [
    "fig = px.treemap(data_temp.head(30), path=['Category', 'Item'], values='Count',\n",
    "                color=data_temp[\"Count\"].head(30), hover_data=['Item'],\n",
    "                color_continuous_scale='Blues')\n",
    "fig.show()"
   ]
  },
  {
   "cell_type": "markdown",
   "metadata": {},
   "source": [
    "<b>Association rules extraction</b>"
   ]
  },
  {
   "cell_type": "code",
   "execution_count": null,
   "metadata": {},
   "outputs": [],
   "source": [
    "# The Apriori algorithm receives in input a 0–1 matrix, where rows are transactions and columns are items\n",
    "import numpy as np\n",
    "from mlxtend.preprocessing import TransactionEncoder\n",
    "from mlxtend.frequent_patterns import apriori,association_rules\n",
    "\n",
    "# Convert the original dataset into an array of lists\n",
    "list_item = []\n",
    "for i in range(data.shape[0]):\n",
    "    list_item.append([str(data.values[i,j]) for j in range(data.shape[1])])\n",
    "arr_list_item = np.array(list_item)\n",
    "arr_list_item\n",
    "\n",
    "\n",
    "#df_all_items = pd.DataFrame(all_items, columns=['Item'])\n",
    "#df_all_items.to_csv(\"all_items.csv\")\n"
   ]
  },
  {
   "cell_type": "code",
   "execution_count": null,
   "metadata": {},
   "outputs": [],
   "source": [
    "# Create a dataframe containing the transactions as list of present-absent items\n",
    "te = TransactionEncoder()\n",
    "te_ary = te.fit(arr_list_item).transform(arr_list_item)\n",
    "df_transaction = pd.DataFrame(te_ary, columns=te.columns_)\n",
    "df_transaction.head()"
   ]
  },
  {
   "cell_type": "code",
   "execution_count": null,
   "metadata": {},
   "outputs": [],
   "source": [
    "df_transaction = df_transaction.drop('nan', axis=1)\n",
    "df_transaction.head()"
   ]
  },
  {
   "cell_type": "code",
   "execution_count": null,
   "metadata": {},
   "outputs": [],
   "source": [
    "# Transform the dataframe of True-False values into binary values\n",
    "df_transaction.replace({False: 0, True: 1},inplace=True)\n",
    "df_transaction.head()"
   ]
  },
  {
   "cell_type": "code",
   "execution_count": null,
   "metadata": {},
   "outputs": [],
   "source": [
    "# Since computations might be expensive, let's consider just the 50 most frequent items\n",
    "df_all_items_frequency.head(50)"
   ]
  },
  {
   "cell_type": "code",
   "execution_count": null,
   "metadata": {},
   "outputs": [],
   "source": [
    "list_top50_items = df_all_items_frequency.head(50)['Item'].tolist()\n",
    "df_transaction_reduced = df_transaction[df_transaction.columns.intersection(list_top50_items)]\n",
    "df_transaction_reduced"
   ]
  },
  {
   "cell_type": "code",
   "execution_count": null,
   "metadata": {},
   "outputs": [],
   "source": [
    "# Extract the most frequest itemsets\n",
    "# .astype('bool') is added to suppress boring warning :-)\n",
    "\n",
    "frequent_itemsets = apriori(df_transaction_reduced.astype('bool'), min_support=0.01, use_colnames=True)\n",
    "frequent_itemsets"
   ]
  },
  {
   "cell_type": "code",
   "execution_count": null,
   "metadata": {},
   "outputs": [],
   "source": [
    "rules = association_rules(frequent_itemsets, metric=\"lift\", min_threshold=1.2)\n",
    "rules.sort_values(\"lift\", ascending=False)"
   ]
  },
  {
   "cell_type": "code",
   "execution_count": null,
   "metadata": {},
   "outputs": [],
   "source": [
    "# Let's change the perspective...\n",
    "rules.sort_values(\"confidence\", ascending=False)"
   ]
  },
  {
   "cell_type": "code",
   "execution_count": null,
   "metadata": {},
   "outputs": [],
   "source": [
    "#...or refine the analysis \n",
    "# The most demanded item, i.e. mineral water, may attract too \"attention\"...\n",
    "# Let's remove all the rules containing it and see what happens\n",
    "rules[~rules[\"consequents\"].str.contains(\"mineral water\", regex=False) & \n",
    "      ~rules[\"antecedents\"].str.contains(\"mineral water\", regex=False)].sort_values(\"confidence\", ascending=False)"
   ]
  },
  {
   "cell_type": "markdown",
   "metadata": {},
   "source": [
    "<b>Useful exercise: Repeat the analysis by introducing items hierarchies (e.g. at the category level)<b>"
   ]
  }
 ],
 "metadata": {
  "kernelspec": {
   "display_name": "Python 3 (ipykernel)",
   "language": "python",
   "name": "python3"
  },
  "language_info": {
   "codemirror_mode": {
    "name": "ipython",
    "version": 3
   },
   "file_extension": ".py",
   "mimetype": "text/x-python",
   "name": "python",
   "nbconvert_exporter": "python",
   "pygments_lexer": "ipython3",
   "version": "3.9.10"
  }
 },
 "nbformat": 4,
 "nbformat_minor": 4
}
