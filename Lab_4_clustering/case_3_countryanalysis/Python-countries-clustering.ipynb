{
 "cells": [
  {
   "cell_type": "markdown",
   "id": "3162a2f4-1308-4d86-874e-7310a9c95819",
   "metadata": {},
   "source": [
    "<h2>Clustering: Country Analysis<h2>"
   ]
  },
  {
   "cell_type": "code",
   "execution_count": null,
   "id": "c0b7ace3-3f48-446d-a9d0-0cf72fd6d6de",
   "metadata": {
    "tags": []
   },
   "outputs": [],
   "source": [
    "import pandas as pd\n",
    "import numpy as np\n",
    "import seaborn as sns\n",
    "import matplotlib.pyplot as plt\n",
    "\n",
    "from sklearn.cluster import KMeans\n",
    "from scipy.spatial.distance import cdist, pdist\n",
    "from sklearn.metrics import silhouette_score\n",
    "from sklearn.preprocessing import StandardScaler\n",
    "from sklearn.cluster import DBSCAN"
   ]
  },
  {
   "cell_type": "code",
   "execution_count": null,
   "id": "bb733406-6f10-409e-b2b9-52385ea54d9b",
   "metadata": {
    "tags": []
   },
   "outputs": [],
   "source": [
    "# Read the data\n",
    "X = pd.read_csv(\"countryanalysis.csv\")\n",
    "X.head()"
   ]
  },
  {
   "cell_type": "code",
   "execution_count": null,
   "id": "bc67841f-bdd3-4726-b344-18faf6894ca5",
   "metadata": {
    "tags": []
   },
   "outputs": [],
   "source": [
    "X_nocountry = X.drop(['country'],axis=1)\n",
    "X_nocountry.describe()"
   ]
  },
  {
   "cell_type": "code",
   "execution_count": null,
   "id": "060f50c6-723b-4a04-961d-ce0f62fb76a3",
   "metadata": {
    "tags": []
   },
   "outputs": [],
   "source": [
    "# Feature scaling\n",
    "scaler = StandardScaler()  # Remove the mean and scale to unit variance\n",
    "X_scaled = scaler.fit_transform(X_nocountry)\n",
    "X_scaled = pd.DataFrame(X_scaled, columns = ['child_mort','exports','health','imports','income','inflation','life_expec','total_fer','gdpp'])\n",
    "X_scaled"
   ]
  },
  {
   "cell_type": "code",
   "execution_count": null,
   "id": "ceed6b9a-22c6-4647-ad03-359d54d4666c",
   "metadata": {
    "tags": []
   },
   "outputs": [],
   "source": [
    "# Generate a heatmap of the correlations among the features\n",
    "print('Correlation among features')\n",
    "sns.heatmap(X_scaled.corr(),annot=True);"
   ]
  },
  {
   "cell_type": "code",
   "execution_count": null,
   "id": "7c0bfaf1",
   "metadata": {},
   "outputs": [],
   "source": [
    "# Generate a heatmap of the correlations among the features\n",
    "print('Co-clustering')\n",
    "sns.clustermap(X_scaled.head(30),method='ward', metric='euclidean',annot=True);"
   ]
  },
  {
   "cell_type": "code",
   "execution_count": null,
   "id": "d762bc1e-b9f2-4606-9648-c9ceddc485eb",
   "metadata": {
    "tags": []
   },
   "outputs": [],
   "source": [
    "X_colsubset = X_scaled[['child_mort', 'imports', 'gdpp']]\n",
    "X_colsubset"
   ]
  },
  {
   "cell_type": "code",
   "execution_count": null,
   "id": "19fa4d31-e70c-4e93-9a7b-3ba340d83b1b",
   "metadata": {
    "tags": []
   },
   "outputs": [],
   "source": [
    "# Display the selected data\n",
    "sns.scatterplot(x = 'gdpp', y = 'child_mort', data = X_colsubset)"
   ]
  },
  {
   "cell_type": "code",
   "execution_count": null,
   "id": "a5172f44-939c-4f1c-a927-24837efd45a6",
   "metadata": {
    "tags": []
   },
   "outputs": [],
   "source": [
    "sns.scatterplot(x = 'gdpp', y = 'imports', data = X_colsubset)"
   ]
  },
  {
   "cell_type": "markdown",
   "id": "4e20a9e0-7f70-426f-96ee-936ad0433cd7",
   "metadata": {
    "tags": []
   },
   "source": [
    "<b>K-means Clustering</b>"
   ]
  },
  {
   "cell_type": "code",
   "execution_count": null,
   "id": "2fa0ba62-e0e0-491f-9c4b-2d14cf8bdbb1",
   "metadata": {
    "tags": []
   },
   "outputs": [],
   "source": [
    "from sklearn.cluster import KMeans\n",
    "\n",
    "# Select the number of clusters by means of SSE\n",
    "SSE = []\n",
    "range_n_clusters = range(2,9)\n",
    "for nclust in range_n_clusters:\n",
    "    # Initialize K-means clustering\n",
    "    km = KMeans(n_clusters=nclust, \n",
    "                init='random', # or 'k-means++'\n",
    "                n_init=10, \n",
    "                max_iter=100, \n",
    "                random_state=0)\n",
    "    # Generate K-means clustering\n",
    "    km.fit(X_scaled)\n",
    "    SSE.append(km.inertia_)\n",
    "    \n",
    "plt.plot(range_n_clusters, SSE, marker='o')\n",
    "plt.xlabel('Number of clusters K')\n",
    "plt.ylabel('Sum of Squared Distances (SSE)')\n",
    "plt.show()"
   ]
  },
  {
   "cell_type": "code",
   "execution_count": null,
   "id": "571a5c67-5dc8-4e2d-9f48-5c5b0b6c2dee",
   "metadata": {
    "tags": []
   },
   "outputs": [],
   "source": [
    "# Generate the final K-means clustering model\n",
    "km = KMeans(n_clusters=5,\n",
    "            init='random',\n",
    "            n_init=10, \n",
    "            max_iter=100,\n",
    "            random_state=0)\n",
    "cluster_labels = km.fit_predict(X_scaled)\n",
    "X['kmeans_labels'] = cluster_labels\n",
    "X"
   ]
  },
  {
   "cell_type": "code",
   "execution_count": null,
   "id": "3ed85cbc-a1dd-4fb8-9102-c62910bc4cce",
   "metadata": {
    "tags": []
   },
   "outputs": [],
   "source": [
    "# Plot the features of interest\n",
    "X_colsubset = X[['child_mort', 'imports', 'gdpp', 'kmeans_labels']]\n",
    "sns.scatterplot(x = 'gdpp', y = 'child_mort', data = X_colsubset, hue = 'kmeans_labels', palette = 'bright')"
   ]
  },
  {
   "cell_type": "code",
   "execution_count": null,
   "id": "b520f689-00c8-46b7-b000-1cc067a2c463",
   "metadata": {
    "tags": []
   },
   "outputs": [],
   "source": [
    "sns.scatterplot(x = 'gdpp', y = 'imports', data = X_colsubset, hue = 'kmeans_labels', palette = 'bright')"
   ]
  },
  {
   "cell_type": "markdown",
   "id": "675ff392-ba6a-40ef-abed-96639773d5a3",
   "metadata": {},
   "source": [
    "<b>DBSCAN</b>"
   ]
  },
  {
   "cell_type": "code",
   "execution_count": null,
   "id": "bc2bd0c5-714b-4c9c-8652-614dc771e04e",
   "metadata": {
    "tags": []
   },
   "outputs": [],
   "source": [
    "# Selection of the size (eps) of the neighborhood\n",
    "outlier_perc = []\n",
    "\n",
    "for eps in np.linspace(0.001,3,50):  #Return evenly spaced numbers over a specified interval\n",
    "    # Create the clustering model based\n",
    "    dbscan = DBSCAN(eps=eps,min_samples=3)\n",
    "    dbscan.fit(X_scaled)\n",
    "    print(dbscan.labels_)\n",
    "    # Count the percentage of points that are outliers\n",
    "    perc_outliers = 100 * np.sum(dbscan.labels_ == -1) / len(dbscan.labels_)\n",
    "    outlier_perc.append(perc_outliers)"
   ]
  },
  {
   "cell_type": "code",
   "execution_count": null,
   "id": "4ea3c0df-3885-4de5-8ac1-5a7f009210d5",
   "metadata": {
    "tags": []
   },
   "outputs": [],
   "source": [
    "plt.figure(figsize = (8,4), dpi = 100)\n",
    "sns.lineplot(x=np.linspace(0.001,3,50),y=outlier_perc)\n",
    "plt.ylabel(\"Percentage of points labeled as outliers\")\n",
    "plt.xlabel(\"Epsilon\")\n",
    "plt.show()"
   ]
  },
  {
   "cell_type": "code",
   "execution_count": null,
   "id": "c7c7b9a5-d2cc-4086-9929-d6bdb308a72b",
   "metadata": {
    "tags": []
   },
   "outputs": [],
   "source": [
    "# Generate the final DBSCAN model\n",
    "dbscan = DBSCAN(eps = 1.2, min_samples = 5)\n",
    "cluster_labels = dbscan.fit_predict(X_scaled)\n",
    "X['dbscan_labels'] = cluster_labels\n",
    "X"
   ]
  },
  {
   "cell_type": "code",
   "execution_count": null,
   "id": "98525fef-45b9-4b77-869e-ed2e38667ef1",
   "metadata": {
    "tags": []
   },
   "outputs": [],
   "source": [
    "# Plot the features of interest\n",
    "X_colsubset = X[['child_mort', 'imports', 'gdpp', 'dbscan_labels']]\n",
    "sns.scatterplot(x = 'gdpp', y = 'child_mort', data = X_colsubset, hue = 'dbscan_labels', palette = 'bright')"
   ]
  },
  {
   "cell_type": "code",
   "execution_count": null,
   "id": "38466001-4ccd-4307-8277-03e709def297",
   "metadata": {
    "tags": []
   },
   "outputs": [],
   "source": [
    "sns.scatterplot(x = 'gdpp', y = 'imports', data = X_colsubset, hue = 'dbscan_labels', palette = 'bright')"
   ]
  },
  {
   "cell_type": "code",
   "execution_count": null,
   "id": "325c839e",
   "metadata": {},
   "outputs": [],
   "source": []
  }
 ],
 "metadata": {
  "kernelspec": {
   "display_name": "teaching",
   "language": "python",
   "name": "teaching"
  },
  "language_info": {
   "codemirror_mode": {
    "name": "ipython",
    "version": 3
   },
   "file_extension": ".py",
   "mimetype": "text/x-python",
   "name": "python",
   "nbconvert_exporter": "python",
   "pygments_lexer": "ipython3",
   "version": "3.9.10"
  }
 },
 "nbformat": 4,
 "nbformat_minor": 5
}
