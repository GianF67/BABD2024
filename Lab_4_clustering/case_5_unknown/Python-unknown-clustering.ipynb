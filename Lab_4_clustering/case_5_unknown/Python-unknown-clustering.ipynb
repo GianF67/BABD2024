{
 "cells": [
  {
   "cell_type": "markdown",
   "metadata": {},
   "source": [
    "<h2>Clustering: Unknown dataset<h2>"
   ]
  },
  {
   "cell_type": "code",
   "execution_count": null,
   "metadata": {},
   "outputs": [],
   "source": [
    "import pandas as pd\n",
    "import numpy as np\n",
    "import matplotlib.pyplot as plt\n",
    "\n",
    "# Read the data\n",
    "X = pd.read_csv(\"unknown.csv\")\n",
    "X"
   ]
  },
  {
   "cell_type": "code",
   "execution_count": null,
   "metadata": {},
   "outputs": [],
   "source": [
    "X.describe()"
   ]
  },
  {
   "cell_type": "markdown",
   "metadata": {},
   "source": [
    "<b>K-means Clustering (Scikit-Learn)</b>"
   ]
  },
  {
   "cell_type": "code",
   "execution_count": null,
   "metadata": {},
   "outputs": [],
   "source": [
    "from sklearn.cluster import KMeans\n",
    "\n",
    "# Select the number of clusters by means of SSE\n",
    "SSE = []\n",
    "range_n_clusters = range(2,20)\n",
    "for nclust in range_n_clusters:\n",
    "    # Initialize K-means clustering\n",
    "    km = KMeans(n_clusters=nclust, \n",
    "                init='random', # or 'k-means++'\n",
    "                n_init=10, \n",
    "                max_iter=300, \n",
    "                random_state=0)\n",
    "    # Generate K-means clustering\n",
    "    km.fit(X)\n",
    "    SSE.append(km.inertia_)\n",
    "    \n",
    "plt.plot(range_n_clusters, SSE, marker='o')\n",
    "plt.xlabel('Number of clusters K')\n",
    "plt.ylabel('Sum of Squared Distances (SSE)')\n",
    "plt.show()"
   ]
  },
  {
   "cell_type": "code",
   "execution_count": null,
   "metadata": {},
   "outputs": [],
   "source": [
    "from sklearn.metrics import silhouette_samples, silhouette_score\n",
    "\n",
    "# Select the number of clusters by means of the silohuette coefficient\n",
    "range_n_clusters = range(2,13)\n",
    "for nclust in range_n_clusters:\n",
    "    \n",
    "    # Initialize K-means clustering\n",
    "    km = KMeans(n_clusters=nclust,\n",
    "                init='random',\n",
    "                n_init=10, \n",
    "                max_iter=300,\n",
    "                random_state=0)\n",
    "    \n",
    "    # Generate K-means clustering, compute cluster centers and predict the cluster label for each example\n",
    "    cluster_labels = km.fit_predict(X)\n",
    "    cluster_labels_set = np.unique(cluster_labels)\n",
    "    \n",
    "    # Compute the average silhouette coefficient\n",
    "    silhouette_avg_coeff = silhouette_score(X, cluster_labels)\n",
    "    print(\"N° of clusters =\", nclust, \"-> Average silhouette coefficient: \", silhouette_avg_coeff)\n",
    "    \n",
    "    # Compute the silhouette coefficient for each example\n",
    "    silhouette_example_coeff = silhouette_samples(X, cluster_labels)\n",
    "    \n",
    "    # For the examples belonging to each cluster plot the silhouette coefficient\n",
    "    fig = plt.figure(nclust) \n",
    "    fig.set_size_inches(6,6)\n",
    "    ax1 = fig.add_subplot()\n",
    "    \n",
    "    y_lower = 0\n",
    "    for i in cluster_labels_set:\n",
    "        # Aggregate and sort the silhouette coefficients for the examples belonging to the cluster\n",
    "        cluster_i_silhouette_coeff = silhouette_example_coeff[cluster_labels==i]\n",
    "        cluster_i_silhouette_coeff.sort()\n",
    "        y_upper = y_lower + cluster_i_silhouette_coeff.shape[0]\n",
    "        ax1.fill_betweenx(np.arange(y_lower, y_upper), 0, cluster_i_silhouette_coeff)\n",
    "        ax1.text(-0.05, y_lower + 0.5 * cluster_i_silhouette_coeff.shape[0], str(i))\n",
    "        y_lower = y_upper + 10\n",
    "    \n",
    "    # Enrich the silhouette plot\n",
    "    ax1.axvline(x=silhouette_avg_coeff, color=\"black\", linestyle=\"--\")\n",
    "    ax1.set_xlabel(\"Silhouette Coefficients\")\n",
    "    ax1.set_ylabel(\"Cluster Label\")"
   ]
  },
  {
   "cell_type": "code",
   "execution_count": null,
   "metadata": {},
   "outputs": [],
   "source": [
    "# Generate the final K-means clustering model\n",
    "from sklearn.cluster import KMeans\n",
    "\n",
    "nclust=10\n",
    "\n",
    "km = KMeans(n_clusters=10,\n",
    "            init='random',\n",
    "            n_init=10,\n",
    "            random_state=0)\n",
    "cluster_labels = km.fit_predict(X)\n",
    "print(\"Done\")"
   ]
  },
  {
   "cell_type": "code",
   "execution_count": null,
   "metadata": {},
   "outputs": [],
   "source": [
    "from sklearn.datasets import load_digits\n",
    "digits = load_digits()\n",
    "print(digits.DESCR)"
   ]
  },
  {
   "cell_type": "code",
   "execution_count": null,
   "metadata": {},
   "outputs": [],
   "source": [
    "# Plot the centers\n",
    "fig, ax = plt.subplots(1, nclust, figsize=(12, 8))\n",
    "centers = km.cluster_centers_.reshape(nclust, 8, 8)\n",
    "for axi, center in zip(ax.flat, centers):\n",
    "    axi.set(xticks=[], yticks=[])\n",
    "    axi.imshow(center, interpolation='hamming', cmap=plt.cm.binary)"
   ]
  },
  {
   "cell_type": "code",
   "execution_count": null,
   "metadata": {},
   "outputs": [],
   "source": [
    "print(cluster_labels.min(),\"-\",cluster_labels.max())"
   ]
  },
  {
   "cell_type": "code",
   "execution_count": null,
   "metadata": {},
   "outputs": [],
   "source": [
    "d = {0: 3, 1: 8, 2: 2, 3: 6, 4: 4, 5: 7, 6: 1, 7: 0, 8: 9, 9: 5}\n",
    "\n",
    "cluster_labels_new = cluster_labels.copy()\n",
    "for i in range(len(cluster_labels)):\n",
    "    print(f\"The cluster label {cluster_labels_new[i]} is changed into {d[cluster_labels[i]]}\")\n",
    "    cluster_labels_new[i]=d[cluster_labels[i]]\n",
    "cluster_labels_new\n",
    "np.savetxt('myfile.csv', cluster_labels_new, delimiter=',')\n",
    "print(\"Done\")"
   ]
  },
  {
   "cell_type": "code",
   "execution_count": null,
   "metadata": {},
   "outputs": [],
   "source": [
    "# Let's compare the ground truth with the clustering results\n",
    "GT = pd.read_csv(\"unknown_ground_truth.csv\")\n",
    "GT"
   ]
  },
  {
   "cell_type": "code",
   "execution_count": null,
   "metadata": {},
   "outputs": [],
   "source": [
    "from sklearn import metrics\n",
    "metrics.confusion_matrix(GT,cluster_labels_new)"
   ]
  },
  {
   "cell_type": "code",
   "execution_count": null,
   "metadata": {},
   "outputs": [],
   "source": []
  }
 ],
 "metadata": {
  "kernelspec": {
   "display_name": "Python 3 (ipykernel)",
   "language": "python",
   "name": "python3"
  },
  "language_info": {
   "codemirror_mode": {
    "name": "ipython",
    "version": 3
   },
   "file_extension": ".py",
   "mimetype": "text/x-python",
   "name": "python",
   "nbconvert_exporter": "python",
   "pygments_lexer": "ipython3",
   "version": "3.9.10"
  }
 },
 "nbformat": 4,
 "nbformat_minor": 4
}
