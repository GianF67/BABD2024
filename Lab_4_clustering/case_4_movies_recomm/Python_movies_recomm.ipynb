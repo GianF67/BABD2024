{
 "cells": [
  {
   "cell_type": "markdown",
   "metadata": {},
   "source": [
    "<h2>Movies recommendation<h2>"
   ]
  },
  {
   "cell_type": "code",
   "execution_count": null,
   "metadata": {},
   "outputs": [],
   "source": [
    "import pandas as pd\n",
    "\n",
    "# Import the MovieLens dataset (with an additional user)\n",
    "r_cols = ['user_id', 'movie_id', 'rating']\n",
    "ratings = pd.read_csv('ml-100k/u.data.user.added', sep='\\t', names=r_cols, usecols=range(3))\n",
    "ratings.head()"
   ]
  },
  {
   "cell_type": "code",
   "execution_count": null,
   "metadata": {},
   "outputs": [],
   "source": [
    "#\"ISO-8859-1\" is an encoding format for text data. It supports most Western European languages.\n",
    "m_cols = ['movie_id', 'title']\n",
    "movies = pd.read_csv('ml-100k/u.item', sep='|', names=m_cols, usecols=range(2), encoding=\"ISO-8859-1\")\n",
    "movies.head()"
   ]
  },
  {
   "cell_type": "code",
   "execution_count": null,
   "metadata": {
    "scrolled": true
   },
   "outputs": [],
   "source": [
    "# Merge the two dataframes (inner join)\n",
    "ratings = pd.merge(movies, ratings, on=\"movie_id\")\n",
    "ratings.head()"
   ]
  },
  {
   "cell_type": "markdown",
   "metadata": {},
   "source": [
    "<b>Create a user/movie rating matrix and compute the similarities among movies</b>"
   ]
  },
  {
   "cell_type": "code",
   "execution_count": null,
   "metadata": {},
   "outputs": [],
   "source": [
    "movieRatings = ratings.pivot_table(index=['user_id'],columns=['title'],values='rating')\n",
    "movieRatings.head()\n",
    "#NaN indicates missing data (movies that a specific users didn't rate)"
   ]
  },
  {
   "cell_type": "code",
   "execution_count": null,
   "metadata": {},
   "outputs": [],
   "source": [
    "# Compute the correlation score (similarity) between every pair of movies \n",
    "# (where at least one user rated both movies - otherwise NaN's will show up)\n",
    "corrMatrix = movieRatings.corr(method='pearson')\n",
    "corrMatrix.head()"
   ]
  },
  {
   "cell_type": "markdown",
   "metadata": {},
   "source": [
    "<b>Are these correlation scores realiable?</b>\n",
    "\n",
    "What if we based our analysis on movies that were watched (and rated) only by a handful of people?\n",
    "Movies rated by a few people are likely to produce spurious results...let's remove them!"
   ]
  },
  {
   "cell_type": "code",
   "execution_count": null,
   "metadata": {},
   "outputs": [],
   "source": [
    "# Get the correlations score (similarity) just for pair of movies rated by more than 100 users\n",
    "corrMatrix = movieRatings.corr(method='pearson', min_periods=100)\n",
    "corrMatrix.head()"
   ]
  },
  {
   "cell_type": "markdown",
   "metadata": {},
   "source": [
    "<b>Get recommendations for me (user_id: 0)</b>"
   ]
  },
  {
   "cell_type": "code",
   "execution_count": null,
   "metadata": {},
   "outputs": [],
   "source": [
    "myRatings = movieRatings.loc[0].dropna()\n",
    "myRatings"
   ]
  },
  {
   "cell_type": "code",
   "execution_count": null,
   "metadata": {},
   "outputs": [],
   "source": [
    "simCandidates = pd.Series(dtype='float64')\n",
    "for i in range(0, len(myRatings.index)):\n",
    "    # Get similar movies to the one I rated\n",
    "    print (\"Getting similar movies for \" + myRatings.index[i] + \"...\")\n",
    "    sims = corrMatrix[myRatings.index[i]].dropna()\n",
    "    # Scale its similarity by how well I rated this movie\n",
    "    # (movies similar to ones I liked count more than movies similar to ones I did not like)\n",
    "    sims = sims.map(lambda x: x * myRatings[i])\n",
    "    # Add the score to the list of similarity candidates\n",
    "    simCandidates = pd.concat([simCandidates, sims])\n",
    "    \n",
    "#Look at the results\n",
    "simCandidates.sort_values(inplace = True, ascending = False)\n",
    "print (simCandidates.head(20))\n"
   ]
  },
  {
   "cell_type": "code",
   "execution_count": null,
   "metadata": {},
   "outputs": [],
   "source": [
    "# Some of the same movies came up more than once, because they were similar to more than one movie I rated.\n",
    "# We can sum up the scores for movies that showed up more than once, so they'll count more\n",
    "simCandidates = simCandidates.groupby(simCandidates.index).sum()\n",
    "simCandidates.sort_values(inplace = True, ascending = False)\n",
    "print (simCandidates.head(20))"
   ]
  },
  {
   "cell_type": "markdown",
   "metadata": {},
   "source": [
    "<b>Done! Remember to filter out movies I had already watched...!</b>"
   ]
  }
 ],
 "metadata": {
  "kernelspec": {
   "display_name": "Python 3 (ipykernel)",
   "language": "python",
   "name": "python3"
  },
  "language_info": {
   "codemirror_mode": {
    "name": "ipython",
    "version": 3
   },
   "file_extension": ".py",
   "mimetype": "text/x-python",
   "name": "python",
   "nbconvert_exporter": "python",
   "pygments_lexer": "ipython3",
   "version": "3.9.10"
  }
 },
 "nbformat": 4,
 "nbformat_minor": 4
}
